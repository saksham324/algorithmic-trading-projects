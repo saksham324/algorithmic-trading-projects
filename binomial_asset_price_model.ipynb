{
 "cells": [
  {
   "cell_type": "code",
   "execution_count": 2,
   "metadata": {},
   "outputs": [],
   "source": [
    "import pandas as pd \n",
    "import numpy as np \n",
    "import matplotlib.pyplot as plt\n",
    "import math as math\n",
    "from itertools import combinations"
   ]
  },
  {
   "cell_type": "markdown",
   "metadata": {},
   "source": [
    "Assuming the current asset price $S_0$ is known, then the future price $S_t$ is a random variable with a log-normal distribution"
   ]
  },
  {
   "cell_type": "markdown",
   "metadata": {},
   "source": [
    "Let $p = q = \\frac{1}{2}$, and let $\\alpha = \\mu + \\frac{1}{2} \\sigma^2$. <br> <br>\n",
    "We know from the binomial model, <br>\n",
    "Equation 1 : $ \\mu \\Delta t = p \\log{u} + q \\log{d}$ <br>\n",
    "Equation 2 : $\\sigma \\Delta t = \\sqrt{pq} \\times (\\log{u} - \\log{d})$ <br> <br>\n",
    "Inputing the values of $p, q$ <br> \n",
    "$\\implies \\mu \\Delta t = \\frac{1}{2} \\log{u} + \\frac{1}{2} \\log{d} \\equiv  2 \\mu \\Delta t = \\log{u} + \\log{d}$ and <br> \n",
    "$\\implies \\sigma \\Delta t = \\frac{1}{2} \\log{u} - \\frac{1}{2} \\log{d} \\equiv 2 \\sigma \\Delta t = \\log{u} - \\log{d} $ <br> <br>\n",
    "Adding (1) and (2), we get : <br> \n",
    "$2 \\log{u} = 2(\\mu \\Delta t + \\sigma \\Delta t) \\equiv u = e^{\\Delta t(\\mu + \\sigma)}$ <br> <br>\n",
    "Similarly subtracting (!) and (2), <br> \n",
    "$\\log{d} = 2 \\mu \\Delta t - \\Delta t (\\mu + \\sigma) \\equiv d = e^{\\Delta t(\\mu - \\sigma)}$ <br> <br>\n",
    "Finally, <br> <br>\n",
    "$u = e^{\\Delta t(\\mu + \\sigma)}$ <br> <br>\n",
    "$d = e^{\\Delta t(\\mu - \\sigma)}$"
   ]
  },
  {
   "cell_type": "code",
   "execution_count": 4,
   "metadata": {},
   "outputs": [],
   "source": [
    "# variables \n",
    "N = 252 # delta-t is 1 trading day \n",
    "S_init = 100 # initial stock price \n",
    "T = 1.0\n",
    "delta_t = T/N \n",
    "sigma = 0.3 # annualized volatility\n",
    "alpha = 0.1 # mean rate of return\n",
    "u = np.exp(sigma * math.sqrt(delta_t)) \n",
    "d = np.exp(-sigma * math.sqrt(delta_t))\n",
    "mu = alpha - 0.5*(sigma ** 2)\n",
    "p = 0.5 + 0.5 * mu / sigma * np.sqrt(delta_t)"
   ]
  },
  {
   "cell_type": "code",
   "execution_count": 7,
   "metadata": {},
   "outputs": [
    {
     "data": {
      "text/plain": [
       "[<matplotlib.lines.Line2D at 0x7fd6be7b4e90>]"
      ]
     },
     "execution_count": 7,
     "metadata": {},
     "output_type": "execute_result"
    },
    {
     "data": {
      "image/png": "[encoded data removed]",
      "text/plain": [
       "<Figure size 432x288 with 1 Axes>"
      ]
     },
     "metadata": {
      "needs_background": "light"
     },
     "output_type": "display_data"
    }
   ],
   "source": [
    "def simulate(curr):\n",
    "    \"\"\" Simulates a random stock price trajectory based on the values for u and d \n",
    "    and probability of increase and decrease at each step is p = q = 0.5\n",
    "    \"\"\"\n",
    "    price_history = []\n",
    "    for i in range(N + 1):\n",
    "        choices = [curr * u, curr * d]\n",
    "        curr = np.random.choice(choices, p=[p, 1 - p])\n",
    "        price_history.append(curr)\n",
    "    return price_history\n",
    "\n",
    "plt.plot(simulate(S_init))"
   ]
  },
  {
   "cell_type": "code",
   "execution_count": 16,
   "metadata": {},
   "outputs": [
    {
     "name": "stdout",
     "output_type": "stream",
     "text": [
      "Estimate for alpha is 0.4814181691090728\n",
      "Estimate for sigma is 0.2993525383670495\n"
     ]
    }
   ],
   "source": [
    "price_history = simulate(S_init)\n",
    "\n",
    "rate_of_return = []\n",
    "for i in range(1, 252):\n",
    "    r = (price_history[i] - price_history[i-1]) / price_history[i-1]\n",
    "    rate_of_return.append(r)\n",
    "mean_est = np.mean(rate_of_return) * 252\n",
    "sd_est = pd.Series(rate_of_return).std() * np.sqrt(252)\n",
    "print(\"Estimate for alpha is \" + str(mean_est))\n",
    "print(\"Estimate for sigma is \" + str(sd_est))"
   ]
  },
  {
   "cell_type": "code",
   "execution_count": 17,
   "metadata": {},
   "outputs": [
    {
     "name": "stdout",
     "output_type": "stream",
     "text": [
      "Estimate using alpha: 161.83678948838997\n",
      "Estimate using mu: 154.7455854198186\n",
      "S_N is 154.4436538700964\n"
     ]
    }
   ],
   "source": [
    "mu_est = mean_est - 0.5*(sd_est**2)\n",
    "print(\"Estimate using alpha: \" + str(100 * np.exp(mean_est)))\n",
    "print(\"Estimate using mu: \" + str(100 * np.exp(mu_est)))\n",
    "print(\"S_N is \" + str(price_history[len(price_history) - 1]))"
   ]
  },
  {
   "cell_type": "markdown",
   "metadata": {},
   "source": [
    "It is closer to $\\mu$. It was closer to $\\mu$ more often."
   ]
  },
  {
   "cell_type": "code",
   "execution_count": 18,
   "metadata": {},
   "outputs": [],
   "source": [
    "def simulate(alpha, sd):\n",
    "    mu = alpha - 0.5*(sd**2)\n",
    "    u = np.exp(sd * np.sqrt(1/252))\n",
    "    d = np.exp(-sd * np.sqrt(1/252))\n",
    "    p = 0.5 + 0.5 * mu / sd * np.sqrt(1/252)\n",
    "    current = 100\n",
    "    price_history = []\n",
    "    price_history.append(current)\n",
    "    for i in range(252):\n",
    "        choices = [current * u, current * d]\n",
    "        current = np.random.choice(choices, p=[p, 1 - p])\n",
    "        price_history.append(current)\n",
    "    rate_of_return = []\n",
    "    for i in range(1, 252):\n",
    "        r = (price_history[i] - price_history[i-1]) / price_history[i-1]\n",
    "        rate_of_return.append(r)\n",
    "    mean_est = np.mean(rate_of_return) * 252\n",
    "    sd_est = pd.Series(rate_of_return).std() * np.sqrt(252)\n",
    "    return mean_est, sd_est"
   ]
  },
  {
   "cell_type": "code",
   "execution_count": 19,
   "metadata": {},
   "outputs": [
    {
     "data": {
      "image/png": "[encoded data removed]",
      "text/plain": [
       "<Figure size 432x288 with 1 Axes>"
      ]
     },
     "metadata": {
      "needs_background": "light"
     },
     "output_type": "display_data"
    },
    {
     "data": {
      "image/png": "[encoded data removed]",
      "text/plain": [
       "<Figure size 432x288 with 1 Axes>"
      ]
     },
     "metadata": {
      "needs_background": "light"
     },
     "output_type": "display_data"
    }
   ],
   "source": [
    "alpha_bars = []\n",
    "sigma_bars = []\n",
    "for i in range(1000):\n",
    "    alpha, sigma = simulate(0.1, 0.3)\n",
    "    alpha_bars.append(alpha)\n",
    "    sigma_bars.append(sigma)\n",
    "plt.hist(alpha_bars)\n",
    "plt.show()\n",
    "plt.hist(sigma_bars)\n",
    "plt.show()"
   ]
  },
  {
   "cell_type": "markdown",
   "metadata": {},
   "source": [
    "It is clearly difficult to estimate $\\alpha$ since there is so much spread (ranges all the way from close to -1 to 1). However, it is much easier to estimate $\\sigma$ as most values lie around 0.3, which is the correct value."
   ]
  },
  {
   "cell_type": "markdown",
   "metadata": {},
   "source": [
    "binom_call_price is a function that calculates the price of a call option using the binomial\n",
    "tree model. The function takes as input parameters:\n",
    "* spot price $S_0$\n",
    "* strike price $K$\n",
    "* time to expiration $T$\n",
    "* number of time steps $N$\n",
    "* volatility $\\sigma$ (annualized)\n",
    "* risk free rate $r$ (annualized)"
   ]
  },
  {
   "cell_type": "code",
   "execution_count": 20,
   "metadata": {},
   "outputs": [],
   "source": [
    "def binom_call_price(S_0, K, T, N, vol, r):\n",
    "    t = T/N # Time step\n",
    "    # Use CRR parameters\n",
    "    u = np.exp(vol * np.sqrt(t))\n",
    "    d = np.exp(-vol * np.sqrt(t))\n",
    "    # Calculate risk-free probs\n",
    "    p = (np.exp(r * t) - d)/(u - d)\n",
    "    q = 1 - p\n",
    "    \n",
    "    tree = [] * (N + 1)\n",
    "    for i in range(N + 1):\n",
    "        tree.append([-1] * (N + 1))\n",
    "    \n",
    "    # Fill out last row\n",
    "    for i in range(N + 1):\n",
    "        price = S_0 * (u**(N - i)) * (d**i)\n",
    "        tree[N][i] = max(0, price - K)\n",
    "\n",
    "    # Start from end and loop back\n",
    "    for i in range(N)[::-1]:\n",
    "        for j in range(i + 1):\n",
    "            heads = tree[i + 1][j]\n",
    "            tails = tree[i + 1][j + 1]\n",
    "            tree[i][j] = (heads * p + tails * q) * np.exp(-t * r)\n",
    "\n",
    "    return tree[0][0] "
   ]
  },
  {
   "cell_type": "code",
   "execution_count": 21,
   "metadata": {},
   "outputs": [
    {
     "data": {
      "image/png": "[encoded data removed]",
      "text/plain": [
       "<Figure size 432x288 with 1 Axes>"
      ]
     },
     "metadata": {
      "needs_background": "light"
     },
     "output_type": "display_data"
    },
    {
     "name": "stdout",
     "output_type": "stream",
     "text": [
      "Red is volatility = 0.4 and Blue is volatility = 0.1\n"
     ]
    }
   ],
   "source": [
    "call_prices_1 = []\n",
    "call_prices_2 = []\n",
    "for i in range(1, 201):\n",
    "    call_prices_1.append(binom_call_price(100, i, 1, 252, 0.1, 0.03))\n",
    "    call_prices_2.append(binom_call_price(100, i, 1, 252, 0.4, 0.03))\n",
    "plt.plot(call_prices_1, 'b')\n",
    "plt.plot(call_prices_2, 'r')\n",
    "plt.show()\n",
    "print(\"Red is volatility = 0.4 and Blue is volatility = 0.1\")"
   ]
  },
  {
   "cell_type": "markdown",
   "metadata": {},
   "source": [
    "Increase in volatility increases price of option. However, the overall shape of the derivative function doesn't change, so it could be thought of as a \"premium\"."
   ]
  },
  {
   "cell_type": "code",
   "execution_count": 22,
   "metadata": {},
   "outputs": [
    {
     "data": {
      "image/png": "[encoded data removed]",
      "text/plain": [
       "<Figure size 432x288 with 1 Axes>"
      ]
     },
     "metadata": {
      "needs_background": "light"
     },
     "output_type": "display_data"
    }
   ],
   "source": [
    "# computing call price with more granular time period\n",
    "call_prices_N = []\n",
    "for i in range(1, 101):\n",
    "    call_prices_N.append(binom_call_price(100, 100, 1, i * 10, 0.4, 0.03))\n",
    "plt.plot(call_prices_N, 'b')\n",
    "plt.show()"
   ]
  },
  {
   "cell_type": "markdown",
   "metadata": {},
   "source": [
    "The Black-Scholes calculator from https://goodcalculators.com/black-scholes-calculator/ returns 17.139. The graph does seem to converge onto that value."
   ]
  },
  {
   "cell_type": "code",
   "execution_count": null,
   "metadata": {},
   "outputs": [],
   "source": []
  }
 ],
 "metadata": {
  "kernelspec": {
   "display_name": "Python 3 (ipykernel)",
   "language": "python",
   "name": "python3"
  },
  "language_info": {
   "codemirror_mode": {
    "name": "ipython",
    "version": 3
   },
   "file_extension": ".py",
   "mimetype": "text/x-python",
   "name": "python",
   "nbconvert_exporter": "python",
   "pygments_lexer": "ipython3",
   "version": "3.7.13"
  }
 },
 "nbformat": 4,
 "nbformat_minor": 4
}
